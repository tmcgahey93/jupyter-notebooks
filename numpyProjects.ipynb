{
 "cells": [
  {
   "cell_type": "code",
   "execution_count": 2,
   "id": "e64068f3-053c-437b-9218-d85848f959af",
   "metadata": {},
   "outputs": [
    {
     "name": "stdout",
     "output_type": "stream",
     "text": [
      "Array: [10 20 30 40 50]\n",
      "Array multiplied by 2: [ 20  40  60  80 100]\n",
      "Array squared: [ 100  400  900 1600 2500]\n",
      "Mean: 30.0\n",
      "Standard Deviation: 14.142135623730951\n",
      "Sum: 150\n",
      "Max: 50\n",
      "Min: 10\n",
      "2D Matrix:\n",
      " [[1 2]\n",
      " [3 4]]\n",
      "Transpose:\n",
      " [[1 3]\n",
      " [2 4]]\n",
      "Dot product:\n",
      " [[ 7 10]\n",
      " [15 22]]\n"
     ]
    }
   ],
   "source": [
    "# In[1]: \n",
    "import numpy as np\n",
    "\n",
    "# In[2]: Create a NumPy array\n",
    "data = np.array([10, 20, 30, 40, 50])\n",
    "print(\"Array:\", data)\n",
    "\n",
    "# In[3]: Perform element-wise operations\n",
    "print(\"Array multiplied by 2:\", data * 2)\n",
    "print(\"Array squared:\", data ** 2)\n",
    "\n",
    "# In[4]: Compute basic statistics\n",
    "print(\"Mean:\", np.mean(data))\n",
    "print(\"Standard Deviation:\", np.std(data))\n",
    "print(\"Sum:\", np.sum(data))\n",
    "print(\"Max:\", np.max(data))\n",
    "print(\"Min:\", np.min(data))\n",
    "\n",
    "# In[5]: Create a 2D array (matrix)\n",
    "matrix = np.array([[1, 2], [3, 4]])\n",
    "print(\"2D Matrix:\\n\", matrix)\n",
    "\n",
    "# In[6]: Matrix operations\n",
    "print(\"Transpose:\\n\", matrix.T)\n",
    "print(\"Dot product:\\n\", np.dot(matrix, matrix))"
   ]
  },
  {
   "cell_type": "code",
   "execution_count": 3,
   "id": "9287e1fb-fe5a-4b2f-bedc-63e336de2ae2",
   "metadata": {},
   "outputs": [
    {
     "name": "stdout",
     "output_type": "stream",
     "text": [
      "Array: [10 20 30 40 50]\n"
     ]
    }
   ],
   "source": [
    "print(\"Array:\", data)"
   ]
  },
  {
   "cell_type": "code",
   "execution_count": null,
   "id": "80c8a6ac-f3a1-4bb4-a4b7-0aa226b9db7d",
   "metadata": {},
   "outputs": [],
   "source": []
  }
 ],
 "metadata": {
  "kernelspec": {
   "display_name": "Python 3 (ipykernel)",
   "language": "python",
   "name": "python3"
  },
  "language_info": {
   "codemirror_mode": {
    "name": "ipython",
    "version": 3
   },
   "file_extension": ".py",
   "mimetype": "text/x-python",
   "name": "python",
   "nbconvert_exporter": "python",
   "pygments_lexer": "ipython3",
   "version": "3.13.5"
  }
 },
 "nbformat": 4,
 "nbformat_minor": 5
}
